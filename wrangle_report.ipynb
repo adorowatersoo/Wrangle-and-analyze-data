{
 "cells": [
  {
   "cell_type": "markdown",
   "metadata": {},
   "source": [
    "## Data wragling Report\n",
    "In this report I will describe the wrangling efforts to assemble and clean the data from the WeRateDogs Twitter Archive."
   ]
  },
  {
   "cell_type": "markdown",
   "metadata": {},
   "source": [
    "### Data Gathering"
   ]
  },
  {
   "cell_type": "markdown",
   "metadata": {},
   "source": [
    "The data I gathered was obtained from 3 sources:\n",
    "1. WeRateDogs Twitter Enhanced archive, manually downloaded from the Udacity servers.\n",
    "2. The image predictions file, programmatically downloaded from the Udacity servers.\n",
    "3. The entire set of each tweets’ JSON data, downloaded by querying the Twitter API using the Tweepy\n",
    "library"
   ]
  },
  {
   "cell_type": "markdown",
   "metadata": {},
   "source": [
    "### Assessing & Cleaning"
   ]
  },
  {
   "cell_type": "markdown",
   "metadata": {},
   "source": [
    "I began the assessment by viewing the information on the archive table first, identifying several quality and\n",
    "tidiness issues. Then I went ahead to programatically access df_image_predictionsdata.\n",
    "\n",
    "I identified 8 quality issues and 2 tidiness issues. To begin my cleaning efforts, I converted [\"doggo\", \"flooter\", \"pupper\", \"puppo\"] columns into one \"stage\" column, then droped the four columns. \n",
    "\n",
    "I Converted the timestamp column to datetime data type.\n",
    "\n",
    "I changed the odd dog names like \"a\" and \"an\" in the name column to ‘none’.\n",
    "\n",
    "As per the requirements, all rows containing non-null values in the retweeted_status_id , retweeted_status_user_id and\n",
    "retweeted_status_timestamp , and also in the in_reply_to_status_id and in_reply_to_user_id\n",
    "columns were dropped.\n",
    "\n",
    "I dropped the \"source column because I did not need it for my analysis \n",
    "\n",
    "The rating_numerator and rating_denominator columns were checked for value ranges; I decided to keep\n",
    "only tweets with single ratings. Several tweets’ ratings were manually corrected with values from the text.\n",
    "Tweets with large numerators were dropped, as the text didn’t contain a valid rating (# out of 10). After the\n",
    "ratings were fixed, I dropped the rating_denominator column (it contained only ‘10’s).\n",
    "\n",
    "The 4 dog stage columns were melted into the stage column; tweets without stages were set to ‘none’.\n",
    "Several had 2 stages set, so I kept only the one with the lower overall count.\n",
    "\n",
    "The remaining cleaned columns in the archive table were reordered, then the table was saved to the new\n",
    "“twitter_archive_master.csv” file. The predictions file saved as image_pred_wrangled.csv"
   ]
  }
 ],
 "metadata": {
  "kernelspec": {
   "display_name": "Python 3",
   "language": "python",
   "name": "python3"
  },
  "language_info": {
   "codemirror_mode": {
    "name": "ipython",
    "version": 3
   },
   "file_extension": ".py",
   "mimetype": "text/x-python",
   "name": "python",
   "nbconvert_exporter": "python",
   "pygments_lexer": "ipython3",
   "version": "3.6.3"
  }
 },
 "nbformat": 4,
 "nbformat_minor": 2
}
